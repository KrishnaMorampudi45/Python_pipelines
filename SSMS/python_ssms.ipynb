{
 "cells": [
  {
   "cell_type": "code",
   "execution_count": null,
   "id": "d3a13dc5",
   "metadata": {},
   "outputs": [],
   "source": [
    "from sqlalchemy import create_engine\n",
    "from sqlalchemy import text\n",
    "import pyodbc\n",
    "import pandas as pd\n",
    "import numpy as np"
   ]
  },
  {
   "cell_type": "code",
   "execution_count": null,
   "id": "2d3c9fe7",
   "metadata": {},
   "outputs": [],
   "source": [
    "print(pyodbc.drivers())"
   ]
  },
  {
   "cell_type": "code",
   "execution_count": null,
   "id": "08b97c43",
   "metadata": {},
   "outputs": [],
   "source": [
    "engine=create_engine(\n",
    "    \"mssql+pyodbc://DESKTOP-R5LFETM\\SQLEXPRESS/Customers?driver=ODBC+Driver+17+for+SQl+Server&trusted_connection=yes\"\n",
    ")\n",
    "conn=engine.connect()"
   ]
  },
  {
   "cell_type": "code",
   "execution_count": null,
   "id": "3486151e",
   "metadata": {},
   "outputs": [],
   "source": [
    "conn.close()"
   ]
  },
  {
   "cell_type": "code",
   "execution_count": null,
   "id": "1846b694",
   "metadata": {},
   "outputs": [],
   "source": [
    "df=pd.read_csv(r\"C:\\Users\\Krishna\\Desktop\\Python\\SSMS\\us_customer_data.csv\")\n",
    "df1=pd.read_csv(r\"C:\\Users\\Krishna\\Desktop\\Python\\SSMS\\order_data.csv\")\n",
    "\n"
   ]
  },
  {
   "cell_type": "code",
   "execution_count": null,
   "id": "a100335a",
   "metadata": {},
   "outputs": [],
   "source": [
    "df['name']=df['name'].str.replace(r'Mr |Mr. |Miss. |Miss |Mrs. |Mrs |Dr. |Dr  ','',regex=True)"
   ]
  },
  {
   "cell_type": "code",
   "execution_count": null,
   "id": "63d3ea0b",
   "metadata": {},
   "outputs": [],
   "source": [
    "df['phone']=df['phone'].str.replace('+91 ','+1 (')"
   ]
  },
  {
   "cell_type": "code",
   "execution_count": null,
   "id": "a2428868",
   "metadata": {},
   "outputs": [],
   "source": [
    "df['phone']=df['phone'].str.slice(0,7) +')-'+ df['phone'].str.slice(7,10) + '-' + df['phone'].str.slice(10,)"
   ]
  },
  {
   "cell_type": "code",
   "execution_count": null,
   "id": "c32d57a5",
   "metadata": {},
   "outputs": [],
   "source": [
    "df.to_csv(r\"C:\\Users\\Krishna\\Desktop\\Python\\SSMS\\us_customer_data.csv\")"
   ]
  },
  {
   "cell_type": "code",
   "execution_count": null,
   "id": "7b1fdad7",
   "metadata": {},
   "outputs": [],
   "source": [
    "df=df.drop(['Unnamed: 0',],axis=1)"
   ]
  },
  {
   "cell_type": "code",
   "execution_count": null,
   "id": "82c3e24c",
   "metadata": {},
   "outputs": [],
   "source": [
    "df"
   ]
  },
  {
   "cell_type": "code",
   "execution_count": null,
   "id": "659407ff",
   "metadata": {},
   "outputs": [],
   "source": [
    "merged=pd.merge(df,df1,how='inner',on='customer_id')\n"
   ]
  },
  {
   "cell_type": "code",
   "execution_count": null,
   "id": "2356116e",
   "metadata": {},
   "outputs": [],
   "source": [
    "df['Tier']=np.nan"
   ]
  },
  {
   "cell_type": "code",
   "execution_count": null,
   "id": "ef3788e6",
   "metadata": {},
   "outputs": [],
   "source": [
    "mapping={\n",
    "    \"Gold\" : 1,\n",
    "    \"Silver\" : 2,\n",
    "    \"Bronze\" : 3\n",
    "}\n",
    "df['Tier']=df['loyalty_status'].map(mapping)"
   ]
  },
  {
   "cell_type": "code",
   "execution_count": null,
   "id": "5185a3bf",
   "metadata": {},
   "outputs": [],
   "source": []
  },
  {
   "cell_type": "code",
   "execution_count": null,
   "id": "0a62ebcf",
   "metadata": {},
   "outputs": [],
   "source": [
    "df"
   ]
  },
  {
   "cell_type": "code",
   "execution_count": null,
   "id": "fe223370",
   "metadata": {},
   "outputs": [],
   "source": [
    "df.to_sql(\"customers\",con=engine,if_exists=\"replace\",index=False)"
   ]
  },
  {
   "cell_type": "code",
   "execution_count": null,
   "id": "32ed856e",
   "metadata": {},
   "outputs": [],
   "source": [
    "df1.to_sql(\"orders\",con=engine,if_exists=\"replace\",index=False)"
   ]
  },
  {
   "cell_type": "code",
   "execution_count": null,
   "id": "8cd48a24",
   "metadata": {},
   "outputs": [],
   "source": [
    "merged.to_sql('unified',engine,if_exists='replace',index=False)"
   ]
  },
  {
   "cell_type": "code",
   "execution_count": null,
   "id": "0475ed18",
   "metadata": {},
   "outputs": [],
   "source": [
    "merged.insert(loc=1,column='first_name',value=np.nan)"
   ]
  },
  {
   "cell_type": "code",
   "execution_count": null,
   "id": "7eb35c25",
   "metadata": {},
   "outputs": [],
   "source": [
    "merged.insert(loc=2,column='last_name',value=np.nan)"
   ]
  },
  {
   "cell_type": "code",
   "execution_count": null,
   "id": "aca06134",
   "metadata": {},
   "outputs": [],
   "source": [
    "merged['first_name']=merged['name'].str.split(' ').str[0]\n",
    "merged['last_name']=merged['name'].str.split(' ').str[-1]\n",
    "merged=merged.drop('name',axis=1)"
   ]
  },
  {
   "cell_type": "code",
   "execution_count": null,
   "id": "badd2638",
   "metadata": {},
   "outputs": [],
   "source": [
    "merged"
   ]
  }
 ],
 "metadata": {
  "kernelspec": {
   "display_name": "Python 3",
   "language": "python",
   "name": "python3"
  },
  "language_info": {
   "codemirror_mode": {
    "name": "ipython",
    "version": 3
   },
   "file_extension": ".py",
   "mimetype": "text/x-python",
   "name": "python",
   "nbconvert_exporter": "python",
   "pygments_lexer": "ipython3",
   "version": "3.10.11"
  }
 },
 "nbformat": 4,
 "nbformat_minor": 5
}
