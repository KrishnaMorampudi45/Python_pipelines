{
 "cells": [
  {
   "cell_type": "code",
   "execution_count": 1,
   "id": "46b755fb",
   "metadata": {},
   "outputs": [],
   "source": [
    "from sqlalchemy import create_engine\n",
    "from sqlalchemy.sql import text\n",
    "import pandas as pd\n",
    "import numpy as np"
   ]
  },
  {
   "cell_type": "code",
   "execution_count": null,
   "id": "09fc1dfe",
   "metadata": {},
   "outputs": [],
   "source": [
    "engine=create_engine(\n",
    "    \"mssql+pyodbc://DESKTOP-R5LFETM\\SQLEXPRESS/Customers?driver=ODBC+Driver+17+for+SQl+Server&trusted_connection=yes\"\n",
    ")"
   ]
  },
  {
   "cell_type": "code",
   "execution_count": 3,
   "id": "f2be9d77",
   "metadata": {},
   "outputs": [],
   "source": [
    "df=pd.read_csv(r'C:\\Users\\Krishna\\Desktop\\Python\\SSMS\\us_customer_data.csv')\n",
    "df=df.drop('Unnamed: 0',axis=1)"
   ]
  },
  {
   "cell_type": "code",
   "execution_count": 4,
   "id": "885bf16e",
   "metadata": {},
   "outputs": [],
   "source": [
    "df=df.head(10)\n",
    "df['status']='Active'"
   ]
  },
  {
   "cell_type": "code",
   "execution_count": 5,
   "id": "5d849f3c",
   "metadata": {},
   "outputs": [
    {
     "data": {
      "text/plain": [
       "10"
      ]
     },
     "execution_count": 5,
     "metadata": {},
     "output_type": "execute_result"
    }
   ],
   "source": [
    "df.to_sql('customer_scd2',engine,if_exists='replace',index=False)"
   ]
  },
  {
   "cell_type": "code",
   "execution_count": 6,
   "id": "e5497731",
   "metadata": {},
   "outputs": [],
   "source": [
    "id=int(input('enter the ID'))\n",
    "add=input(\"add new address\")"
   ]
  },
  {
   "cell_type": "code",
   "execution_count": 7,
   "id": "ef6ba0c1",
   "metadata": {},
   "outputs": [],
   "source": [
    "df1=pd.read_sql(f'select * from customer_scd2 where customer_id={id}',engine)"
   ]
  },
  {
   "cell_type": "code",
   "execution_count": 8,
   "id": "6598695e",
   "metadata": {},
   "outputs": [
    {
     "data": {
      "text/html": [
       "<div>\n",
       "<style scoped>\n",
       "    .dataframe tbody tr th:only-of-type {\n",
       "        vertical-align: middle;\n",
       "    }\n",
       "\n",
       "    .dataframe tbody tr th {\n",
       "        vertical-align: top;\n",
       "    }\n",
       "\n",
       "    .dataframe thead th {\n",
       "        text-align: right;\n",
       "    }\n",
       "</style>\n",
       "<table border=\"1\" class=\"dataframe\">\n",
       "  <thead>\n",
       "    <tr style=\"text-align: right;\">\n",
       "      <th></th>\n",
       "      <th>customer_id</th>\n",
       "      <th>name</th>\n",
       "      <th>email</th>\n",
       "      <th>phone</th>\n",
       "      <th>address</th>\n",
       "      <th>registration_date</th>\n",
       "      <th>loyalty_status</th>\n",
       "      <th>code</th>\n",
       "      <th>status</th>\n",
       "    </tr>\n",
       "  </thead>\n",
       "  <tbody>\n",
       "    <tr>\n",
       "      <th>0</th>\n",
       "      <td>2</td>\n",
       "      <td>Brad Newton</td>\n",
       "      <td>taylorcatherine@example.net</td>\n",
       "      <td>+356 5376741158</td>\n",
       "      <td>38783 Oliver Street, West Kristenborough, MT 9...</td>\n",
       "      <td>2023-07-13</td>\n",
       "      <td>Silver</td>\n",
       "      <td>356</td>\n",
       "      <td>Active</td>\n",
       "    </tr>\n",
       "  </tbody>\n",
       "</table>\n",
       "</div>"
      ],
      "text/plain": [
       "   customer_id         name                        email            phone  \\\n",
       "0            2  Brad Newton  taylorcatherine@example.net  +356 5376741158   \n",
       "\n",
       "                                             address registration_date  \\\n",
       "0  38783 Oliver Street, West Kristenborough, MT 9...        2023-07-13   \n",
       "\n",
       "  loyalty_status code  status  \n",
       "0         Silver  356  Active  "
      ]
     },
     "execution_count": 8,
     "metadata": {},
     "output_type": "execute_result"
    }
   ],
   "source": [
    "df1"
   ]
  },
  {
   "cell_type": "code",
   "execution_count": 9,
   "id": "89b6cbfb",
   "metadata": {},
   "outputs": [],
   "source": [
    "query=f''' \n",
    "update customer_scd2 set status='deactivated' where customer_id={id}\n",
    "'''"
   ]
  },
  {
   "cell_type": "code",
   "execution_count": 10,
   "id": "25db0c27",
   "metadata": {},
   "outputs": [],
   "source": [
    "with engine.connect() as conn:\n",
    "    conn.execute(text(query))\n",
    "    conn.commit()"
   ]
  },
  {
   "cell_type": "code",
   "execution_count": 11,
   "id": "37dbf3d1",
   "metadata": {},
   "outputs": [
    {
     "data": {
      "text/plain": [
       "customer_id                                                          2\n",
       "name                                                       Brad Newton\n",
       "email                                      taylorcatherine@example.net\n",
       "phone                                                  +356 5376741158\n",
       "address              38783 Oliver Street, West Kristenborough, MT 9...\n",
       "registration_date                                           2023-07-13\n",
       "loyalty_status                                                  Silver\n",
       "code                                                               356\n",
       "status                                                          Active\n",
       "Name: 0, dtype: object"
      ]
     },
     "execution_count": 11,
     "metadata": {},
     "output_type": "execute_result"
    }
   ],
   "source": [
    "row=df1.iloc[0]\n",
    "row"
   ]
  },
  {
   "cell_type": "code",
   "execution_count": 14,
   "id": "6ebcd5dd",
   "metadata": {},
   "outputs": [],
   "source": [
    "query2=f''' \n",
    "insert into customer_scd2 values({row['customer_id']},'{row['name']}','{row['email']}','{row['phone']}','{add}','{row['registration_date']}','{row['loyalty_status']}','{row['code']}','{row['status']}')\n",
    "'''"
   ]
  },
  {
   "cell_type": "code",
   "execution_count": 15,
   "id": "bfca4b2e",
   "metadata": {},
   "outputs": [],
   "source": [
    "with engine.connect() as conn:\n",
    "    conn.execute(text(query2))\n",
    "    conn.commit()"
   ]
  },
  {
   "cell_type": "code",
   "execution_count": null,
   "id": "a1f383df",
   "metadata": {},
   "outputs": [],
   "source": []
  }
 ],
 "metadata": {
  "kernelspec": {
   "display_name": "Python 3",
   "language": "python",
   "name": "python3"
  },
  "language_info": {
   "codemirror_mode": {
    "name": "ipython",
    "version": 3
   },
   "file_extension": ".py",
   "mimetype": "text/x-python",
   "name": "python",
   "nbconvert_exporter": "python",
   "pygments_lexer": "ipython3",
   "version": "3.10.11"
  }
 },
 "nbformat": 4,
 "nbformat_minor": 5
}
