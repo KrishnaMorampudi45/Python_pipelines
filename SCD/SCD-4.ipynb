{
 "cells": [
  {
   "cell_type": "code",
   "execution_count": null,
   "id": "96067b32",
   "metadata": {},
   "outputs": [],
   "source": [
    "from sqlalchemy import create_engine\n",
    "from sqlalchemy.sql import text\n",
    "import pandas as pd\n",
    "import numpy as np"
   ]
  },
  {
   "cell_type": "code",
   "execution_count": null,
   "id": "5503ac13",
   "metadata": {},
   "outputs": [],
   "source": [
    "engine=create_engine(\n",
    "        \"mssql+pyodbc://DESKTOP-R5LFETM\\SQLEXPRESS/Customers?driver=ODBC+Driver+17+for+SQl+Server&trusted_connection=yes\"\n",
    ")"
   ]
  },
  {
   "cell_type": "code",
   "execution_count": null,
   "id": "c53bd99e",
   "metadata": {},
   "outputs": [],
   "source": [
    "conn=engine.connect()"
   ]
  },
  {
   "cell_type": "code",
   "execution_count": null,
   "id": "ccf771f9",
   "metadata": {},
   "outputs": [],
   "source": [
    "df=pd.read_csv(r'C:\\Users\\Krishna\\Desktop\\Python\\SSMS\\us_customer_data.csv')\n",
    "df=df.drop('Unnamed: 0',axis=1)"
   ]
  },
  {
   "cell_type": "code",
   "execution_count": null,
   "id": "d1221448",
   "metadata": {},
   "outputs": [],
   "source": [
    "df=df.head(10)\n",
    "df.to_csv(r'C:\\Users\\Krishna\\Desktop\\Python\\SCD\\scd4_src.csv')"
   ]
  },
  {
   "cell_type": "code",
   "execution_count": null,
   "id": "b9dcf6b2",
   "metadata": {},
   "outputs": [],
   "source": [
    "df=pd.read_csv(r'C:\\Users\\Krishna\\Desktop\\Python\\SCD\\scd4_src.csv')\n",
    "df=df.drop('Unnamed: 0',axis=1)"
   ]
  },
  {
   "cell_type": "code",
   "execution_count": null,
   "id": "7fafdd46",
   "metadata": {},
   "outputs": [],
   "source": [
    "df"
   ]
  },
  {
   "cell_type": "code",
   "execution_count": null,
   "id": "ff1edbd8",
   "metadata": {},
   "outputs": [],
   "source": [
    "id=int(input('enter id'))\n",
    "name=input(\"enter name\")\n",
    "mail=input('enter mail')\n",
    "phone=input('enter phone number')\n",
    "add=input('enter address')"
   ]
  },
  {
   "cell_type": "code",
   "execution_count": null,
   "id": "cfe9703d",
   "metadata": {},
   "outputs": [],
   "source": [
    "df1=pd.DataFrame()"
   ]
  },
  {
   "cell_type": "code",
   "execution_count": null,
   "id": "ac95791d",
   "metadata": {},
   "outputs": [],
   "source": [
    "df1[['customer_id','old-entry','new-entry']]=np.nan\n",
    "df1['last_update_on']=pd.NaT"
   ]
  },
  {
   "cell_type": "code",
   "execution_count": null,
   "id": "2a115d67",
   "metadata": {},
   "outputs": [],
   "source": [
    "df1"
   ]
  },
  {
   "cell_type": "code",
   "execution_count": null,
   "id": "2e130b32",
   "metadata": {},
   "outputs": [],
   "source": [
    "row=df[df['customer_id']==id].index\n",
    "i=row[0]\n",
    "i"
   ]
  },
  {
   "cell_type": "code",
   "execution_count": 16,
   "id": "8c02a8c6",
   "metadata": {},
   "outputs": [],
   "source": [
    "if df.loc[i,'name']!=name:\n",
    "    changes=[df.loc[i,'customer_id'],df.loc[i,'name'],name,pd.Timestamp.now()]\n",
    "    df1.loc[len(df1)]=changes\n",
    "    df.loc[i,'name']=name\n",
    "\n",
    "if df.loc[i, 'email'] != mail:\n",
    "    changes=[df.loc[i,'customer_id'],df.loc[i,'email'],mail,pd.Timestamp.now()]\n",
    "    df1.loc[len(df1)]=changes\n",
    "    df.loc[i, 'email'] = mail\n",
    "if df.loc[i,'phone']!=phone:\n",
    "    changes=[df.loc[i,'customer_id'],df.loc[i,'phone'],phone,pd.Timestamp.now()]\n",
    "    df1.loc[len(df1)]=changes\n",
    "    df.loc[i,'phone']=phone\n",
    "if df.loc[i,'address']!=add:\n",
    "    changes=[df.loc[i,'customer_id'],df.loc[i,'address'],add,pd.Timestamp.now()]\n",
    "    df1.loc[len(df1)]=changes\n",
    "    df.loc[i,'address']=add\n",
    "\n",
    "df.to_csv(r'C:\\Users\\Krishna\\Desktop\\Python\\SCD\\scd4_src.csv')\n",
    "df1.to_csv(r'C:\\Users\\Krishna\\Desktop\\Python\\SCD\\scd4_history_table.csv')\n"
   ]
  },
  {
   "cell_type": "code",
   "execution_count": 17,
   "id": "6012fd8b",
   "metadata": {},
   "outputs": [
    {
     "data": {
      "text/html": [
       "<div>\n",
       "<style scoped>\n",
       "    .dataframe tbody tr th:only-of-type {\n",
       "        vertical-align: middle;\n",
       "    }\n",
       "\n",
       "    .dataframe tbody tr th {\n",
       "        vertical-align: top;\n",
       "    }\n",
       "\n",
       "    .dataframe thead th {\n",
       "        text-align: right;\n",
       "    }\n",
       "</style>\n",
       "<table border=\"1\" class=\"dataframe\">\n",
       "  <thead>\n",
       "    <tr style=\"text-align: right;\">\n",
       "      <th></th>\n",
       "      <th>customer_id</th>\n",
       "      <th>old-entry</th>\n",
       "      <th>new-entry</th>\n",
       "      <th>last_update_on</th>\n",
       "    </tr>\n",
       "  </thead>\n",
       "  <tbody>\n",
       "    <tr>\n",
       "      <th>0</th>\n",
       "      <td>10</td>\n",
       "      <td>6182 Brown Mountain, South Gary, IL 29016</td>\n",
       "      <td>pahalgam</td>\n",
       "      <td>2025-06-23 17:07:28.443415</td>\n",
       "    </tr>\n",
       "    <tr>\n",
       "      <th>1</th>\n",
       "      <td>10</td>\n",
       "      <td>6182 Brown Mountain, South Gary, IL 29016</td>\n",
       "      <td>pahalgam</td>\n",
       "      <td>2025-06-23 17:08:08.942082</td>\n",
       "    </tr>\n",
       "  </tbody>\n",
       "</table>\n",
       "</div>"
      ],
      "text/plain": [
       "   customer_id                                  old-entry new-entry  \\\n",
       "0           10  6182 Brown Mountain, South Gary, IL 29016  pahalgam   \n",
       "1           10  6182 Brown Mountain, South Gary, IL 29016  pahalgam   \n",
       "\n",
       "              last_update_on  \n",
       "0 2025-06-23 17:07:28.443415  \n",
       "1 2025-06-23 17:08:08.942082  "
      ]
     },
     "execution_count": 17,
     "metadata": {},
     "output_type": "execute_result"
    }
   ],
   "source": [
    "df1"
   ]
  },
  {
   "cell_type": "code",
   "execution_count": null,
   "id": "425f5ad3",
   "metadata": {},
   "outputs": [],
   "source": [
    "df"
   ]
  },
  {
   "cell_type": "code",
   "execution_count": null,
   "id": "c98f7aa3",
   "metadata": {},
   "outputs": [],
   "source": []
  }
 ],
 "metadata": {
  "kernelspec": {
   "display_name": "Python 3",
   "language": "python",
   "name": "python3"
  },
  "language_info": {
   "codemirror_mode": {
    "name": "ipython",
    "version": 3
   },
   "file_extension": ".py",
   "mimetype": "text/x-python",
   "name": "python",
   "nbconvert_exporter": "python",
   "pygments_lexer": "ipython3",
   "version": "3.10.11"
  }
 },
 "nbformat": 4,
 "nbformat_minor": 5
}
