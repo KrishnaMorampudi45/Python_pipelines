{
 "cells": [
  {
   "cell_type": "code",
   "execution_count": 2,
   "id": "2dececf1",
   "metadata": {},
   "outputs": [],
   "source": [
    "from sqlalchemy import create_engine\n",
    "from sqlalchemy.sql import text\n",
    "import pandas as pd\n",
    "import numpy as np"
   ]
  },
  {
   "cell_type": "code",
   "execution_count": 3,
   "id": "291f411a",
   "metadata": {},
   "outputs": [],
   "source": [
    "engine=create_engine(\n",
    "    \"mssql+pyodbc://DESKTOP-R5LFETM\\SQLEXPRESS/Customers?driver=ODBC+Driver+17+for+SQl+Server&trusted_connection=yes\"\n",
    ")"
   ]
  },
  {
   "cell_type": "code",
   "execution_count": 4,
   "id": "54ccd75b",
   "metadata": {},
   "outputs": [],
   "source": [
    "df=pd.read_csv(r'C:\\Users\\Krishna\\Desktop\\Python\\SSMS\\us_customer_data.csv')\n",
    "df=df.drop('Unnamed: 0',axis=1)"
   ]
  },
  {
   "cell_type": "code",
   "execution_count": 5,
   "id": "f1dd09be",
   "metadata": {},
   "outputs": [],
   "source": [
    "df=df.head(10)\n",
    "df['status']='Active'"
   ]
  },
  {
   "cell_type": "code",
   "execution_count": 6,
   "id": "d6f08682",
   "metadata": {},
   "outputs": [
    {
     "data": {
      "text/plain": [
       "10"
      ]
     },
     "execution_count": 6,
     "metadata": {},
     "output_type": "execute_result"
    }
   ],
   "source": [
    "df.to_sql('customer_scd2.1',engine,if_exists='replace',index=False)"
   ]
  },
  {
   "cell_type": "code",
   "execution_count": 8,
   "id": "578abb5a",
   "metadata": {},
   "outputs": [
    {
     "data": {
      "text/html": [
       "<div>\n",
       "<style scoped>\n",
       "    .dataframe tbody tr th:only-of-type {\n",
       "        vertical-align: middle;\n",
       "    }\n",
       "\n",
       "    .dataframe tbody tr th {\n",
       "        vertical-align: top;\n",
       "    }\n",
       "\n",
       "    .dataframe thead th {\n",
       "        text-align: right;\n",
       "    }\n",
       "</style>\n",
       "<table border=\"1\" class=\"dataframe\">\n",
       "  <thead>\n",
       "    <tr style=\"text-align: right;\">\n",
       "      <th></th>\n",
       "      <th>customer_id</th>\n",
       "      <th>name</th>\n",
       "      <th>email</th>\n",
       "      <th>phone</th>\n",
       "      <th>address</th>\n",
       "      <th>registration_date</th>\n",
       "      <th>loyalty_status</th>\n",
       "      <th>code</th>\n",
       "      <th>status</th>\n",
       "    </tr>\n",
       "  </thead>\n",
       "  <tbody>\n",
       "    <tr>\n",
       "      <th>0</th>\n",
       "      <td>1</td>\n",
       "      <td>Michelle Kidd</td>\n",
       "      <td>vayala@example.net</td>\n",
       "      <td>+971 6197234258</td>\n",
       "      <td>USNS Santiago, FPO AE 80872</td>\n",
       "      <td>2025-01-25</td>\n",
       "      <td>Gold</td>\n",
       "      <td>971</td>\n",
       "      <td>Active</td>\n",
       "    </tr>\n",
       "  </tbody>\n",
       "</table>\n",
       "</div>"
      ],
      "text/plain": [
       "   customer_id           name               email            phone  \\\n",
       "0            1  Michelle Kidd  vayala@example.net  +971 6197234258   \n",
       "\n",
       "                       address registration_date loyalty_status code  status  \n",
       "0  USNS Santiago, FPO AE 80872        2025-01-25           Gold  971  Active  "
      ]
     },
     "execution_count": 8,
     "metadata": {},
     "output_type": "execute_result"
    }
   ],
   "source": [
    "df.head(1)"
   ]
  },
  {
   "cell_type": "code",
   "execution_count": null,
   "id": "cb3ce365",
   "metadata": {},
   "outputs": [],
   "source": [
    "id=int(input('enter id'))\n",
    "name=input(\"enter name\")\n",
    "mail=input('enter mail')\n",
    "phone=input('enter phone number') \n",
    "add=input('enter address')\n",
    "reg_date=input('enter the reg date')\n",
    "loyal=input('enter the status')\n",
    "code=input('enter the code')\n",
    "status=input('enter the status')\n"
   ]
  },
  {
   "cell_type": "code",
   "execution_count": 10,
   "id": "9ba4a4b8",
   "metadata": {},
   "outputs": [],
   "source": [
    "condition=df['customer_id']==id"
   ]
  },
  {
   "cell_type": "code",
   "execution_count": 11,
   "id": "f3473eee",
   "metadata": {},
   "outputs": [],
   "source": [
    "df.loc[condition,'status']='inactive'"
   ]
  },
  {
   "cell_type": "code",
   "execution_count": 13,
   "id": "b054eaa0",
   "metadata": {},
   "outputs": [
    {
     "data": {
      "text/html": [
       "<div>\n",
       "<style scoped>\n",
       "    .dataframe tbody tr th:only-of-type {\n",
       "        vertical-align: middle;\n",
       "    }\n",
       "\n",
       "    .dataframe tbody tr th {\n",
       "        vertical-align: top;\n",
       "    }\n",
       "\n",
       "    .dataframe thead th {\n",
       "        text-align: right;\n",
       "    }\n",
       "</style>\n",
       "<table border=\"1\" class=\"dataframe\">\n",
       "  <thead>\n",
       "    <tr style=\"text-align: right;\">\n",
       "      <th></th>\n",
       "      <th>customer_id</th>\n",
       "      <th>name</th>\n",
       "      <th>email</th>\n",
       "      <th>phone</th>\n",
       "      <th>address</th>\n",
       "      <th>registration_date</th>\n",
       "      <th>loyalty_status</th>\n",
       "      <th>code</th>\n",
       "      <th>status</th>\n",
       "    </tr>\n",
       "  </thead>\n",
       "  <tbody>\n",
       "    <tr>\n",
       "      <th>0</th>\n",
       "      <td>1</td>\n",
       "      <td>Michelle Kidd</td>\n",
       "      <td>vayala@example.net</td>\n",
       "      <td>+971 6197234258</td>\n",
       "      <td>USNS Santiago, FPO AE 80872</td>\n",
       "      <td>2025-01-25</td>\n",
       "      <td>Gold</td>\n",
       "      <td>971</td>\n",
       "      <td>inactive</td>\n",
       "    </tr>\n",
       "  </tbody>\n",
       "</table>\n",
       "</div>"
      ],
      "text/plain": [
       "   customer_id           name               email            phone  \\\n",
       "0            1  Michelle Kidd  vayala@example.net  +971 6197234258   \n",
       "\n",
       "                       address registration_date loyalty_status code    status  \n",
       "0  USNS Santiago, FPO AE 80872        2025-01-25           Gold  971  inactive  "
      ]
     },
     "execution_count": 13,
     "metadata": {},
     "output_type": "execute_result"
    }
   ],
   "source": [
    "df.head(1)"
   ]
  },
  {
   "cell_type": "code",
   "execution_count": 14,
   "id": "b8449675",
   "metadata": {},
   "outputs": [],
   "source": [
    "df.loc[len(df)]=[id,name,mail,phone,add,reg_date,loyal,code,status]"
   ]
  },
  {
   "cell_type": "code",
   "execution_count": 15,
   "id": "5e50c3dd",
   "metadata": {},
   "outputs": [
    {
     "data": {
      "text/html": [
       "<div>\n",
       "<style scoped>\n",
       "    .dataframe tbody tr th:only-of-type {\n",
       "        vertical-align: middle;\n",
       "    }\n",
       "\n",
       "    .dataframe tbody tr th {\n",
       "        vertical-align: top;\n",
       "    }\n",
       "\n",
       "    .dataframe thead th {\n",
       "        text-align: right;\n",
       "    }\n",
       "</style>\n",
       "<table border=\"1\" class=\"dataframe\">\n",
       "  <thead>\n",
       "    <tr style=\"text-align: right;\">\n",
       "      <th></th>\n",
       "      <th>customer_id</th>\n",
       "      <th>name</th>\n",
       "      <th>email</th>\n",
       "      <th>phone</th>\n",
       "      <th>address</th>\n",
       "      <th>registration_date</th>\n",
       "      <th>loyalty_status</th>\n",
       "      <th>code</th>\n",
       "      <th>status</th>\n",
       "    </tr>\n",
       "  </thead>\n",
       "  <tbody>\n",
       "    <tr>\n",
       "      <th>0</th>\n",
       "      <td>1</td>\n",
       "      <td>Michelle Kidd</td>\n",
       "      <td>vayala@example.net</td>\n",
       "      <td>+971 6197234258</td>\n",
       "      <td>USNS Santiago, FPO AE 80872</td>\n",
       "      <td>2025-01-25</td>\n",
       "      <td>Gold</td>\n",
       "      <td>971</td>\n",
       "      <td>inactive</td>\n",
       "    </tr>\n",
       "    <tr>\n",
       "      <th>1</th>\n",
       "      <td>2</td>\n",
       "      <td>Brad Newton</td>\n",
       "      <td>taylorcatherine@example.net</td>\n",
       "      <td>+356 5376741158</td>\n",
       "      <td>38783 Oliver Street, West Kristenborough, MT 9...</td>\n",
       "      <td>2023-07-13</td>\n",
       "      <td>Silver</td>\n",
       "      <td>356</td>\n",
       "      <td>Active</td>\n",
       "    </tr>\n",
       "    <tr>\n",
       "      <th>2</th>\n",
       "      <td>3</td>\n",
       "      <td>Larry Torres</td>\n",
       "      <td>dsanchez@example.net</td>\n",
       "      <td>+1 8102564505</td>\n",
       "      <td>6845 Steele Turnpike, West Erikabury, UT 37487</td>\n",
       "      <td>2023-08-18</td>\n",
       "      <td>Bronze</td>\n",
       "      <td>1</td>\n",
       "      <td>Active</td>\n",
       "    </tr>\n",
       "    <tr>\n",
       "      <th>3</th>\n",
       "      <td>4</td>\n",
       "      <td>Kimberly Price</td>\n",
       "      <td>jessicaknight@example.com</td>\n",
       "      <td>+1 4232229779</td>\n",
       "      <td>1631 Alexis Meadows, Lake Amanda, CA 75179</td>\n",
       "      <td>2024-12-08</td>\n",
       "      <td>Gold</td>\n",
       "      <td>1</td>\n",
       "      <td>Active</td>\n",
       "    </tr>\n",
       "    <tr>\n",
       "      <th>4</th>\n",
       "      <td>5</td>\n",
       "      <td>Matthew Phillips</td>\n",
       "      <td>qwilliams@example.com</td>\n",
       "      <td>+1 2207633522</td>\n",
       "      <td>2274 Williams Heights Suite 895, Andersonhaven...</td>\n",
       "      <td>2024-02-03</td>\n",
       "      <td>Gold</td>\n",
       "      <td>1</td>\n",
       "      <td>Active</td>\n",
       "    </tr>\n",
       "    <tr>\n",
       "      <th>5</th>\n",
       "      <td>6</td>\n",
       "      <td>Darrell Gallagher DVM</td>\n",
       "      <td>larryharris@example.org</td>\n",
       "      <td>+212 3799503695</td>\n",
       "      <td>19887 Brandon Bridge, New Rebecca, MA 94947</td>\n",
       "      <td>2025-03-03</td>\n",
       "      <td>Bronze</td>\n",
       "      <td>212</td>\n",
       "      <td>Active</td>\n",
       "    </tr>\n",
       "    <tr>\n",
       "      <th>6</th>\n",
       "      <td>7</td>\n",
       "      <td>Louis Miller</td>\n",
       "      <td>patriciaelliott@example.org</td>\n",
       "      <td>+1 1988627105</td>\n",
       "      <td>02590 Marshall Well, Sheppardland, CT 88067</td>\n",
       "      <td>2024-09-30</td>\n",
       "      <td>Gold</td>\n",
       "      <td>1</td>\n",
       "      <td>Active</td>\n",
       "    </tr>\n",
       "    <tr>\n",
       "      <th>7</th>\n",
       "      <td>8</td>\n",
       "      <td>Melissa Galloway MD</td>\n",
       "      <td>watsonbenjamin@example.net</td>\n",
       "      <td>+687 5485499586</td>\n",
       "      <td>209 Steven Oval Apt. 022, Mollyhaven, NC 10211</td>\n",
       "      <td>2023-10-06</td>\n",
       "      <td>Bronze</td>\n",
       "      <td>687</td>\n",
       "      <td>Active</td>\n",
       "    </tr>\n",
       "    <tr>\n",
       "      <th>8</th>\n",
       "      <td>9</td>\n",
       "      <td>Matthew Harvey</td>\n",
       "      <td>bgaines@example.net</td>\n",
       "      <td>+1 5811447338</td>\n",
       "      <td>60123 Davis Ford, Mistychester, WA 69400</td>\n",
       "      <td>2024-10-31</td>\n",
       "      <td>Silver</td>\n",
       "      <td>1</td>\n",
       "      <td>Active</td>\n",
       "    </tr>\n",
       "    <tr>\n",
       "      <th>9</th>\n",
       "      <td>10</td>\n",
       "      <td>Rachel White</td>\n",
       "      <td>whitemichael@example.org</td>\n",
       "      <td>+972 4107299740</td>\n",
       "      <td>6182 Brown Mountain, South Gary, IL 29016</td>\n",
       "      <td>2024-02-25</td>\n",
       "      <td>Bronze</td>\n",
       "      <td>972</td>\n",
       "      <td>Active</td>\n",
       "    </tr>\n",
       "    <tr>\n",
       "      <th>10</th>\n",
       "      <td>1</td>\n",
       "      <td>Michelle Kidd</td>\n",
       "      <td>vayala@example.net</td>\n",
       "      <td>+971 6197234258</td>\n",
       "      <td>Mindspace 3B</td>\n",
       "      <td>2025-01-25</td>\n",
       "      <td>Gold</td>\n",
       "      <td>971</td>\n",
       "      <td>Active</td>\n",
       "    </tr>\n",
       "  </tbody>\n",
       "</table>\n",
       "</div>"
      ],
      "text/plain": [
       "    customer_id                   name                        email  \\\n",
       "0             1          Michelle Kidd           vayala@example.net   \n",
       "1             2            Brad Newton  taylorcatherine@example.net   \n",
       "2             3           Larry Torres         dsanchez@example.net   \n",
       "3             4         Kimberly Price    jessicaknight@example.com   \n",
       "4             5       Matthew Phillips        qwilliams@example.com   \n",
       "5             6  Darrell Gallagher DVM      larryharris@example.org   \n",
       "6             7           Louis Miller  patriciaelliott@example.org   \n",
       "7             8    Melissa Galloway MD   watsonbenjamin@example.net   \n",
       "8             9         Matthew Harvey          bgaines@example.net   \n",
       "9            10           Rachel White     whitemichael@example.org   \n",
       "10            1          Michelle Kidd           vayala@example.net   \n",
       "\n",
       "              phone                                            address  \\\n",
       "0   +971 6197234258                        USNS Santiago, FPO AE 80872   \n",
       "1   +356 5376741158  38783 Oliver Street, West Kristenborough, MT 9...   \n",
       "2     +1 8102564505     6845 Steele Turnpike, West Erikabury, UT 37487   \n",
       "3     +1 4232229779         1631 Alexis Meadows, Lake Amanda, CA 75179   \n",
       "4     +1 2207633522  2274 Williams Heights Suite 895, Andersonhaven...   \n",
       "5   +212 3799503695        19887 Brandon Bridge, New Rebecca, MA 94947   \n",
       "6     +1 1988627105        02590 Marshall Well, Sheppardland, CT 88067   \n",
       "7   +687 5485499586     209 Steven Oval Apt. 022, Mollyhaven, NC 10211   \n",
       "8     +1 5811447338           60123 Davis Ford, Mistychester, WA 69400   \n",
       "9   +972 4107299740          6182 Brown Mountain, South Gary, IL 29016   \n",
       "10  +971 6197234258                                       Mindspace 3B   \n",
       "\n",
       "   registration_date loyalty_status code    status  \n",
       "0         2025-01-25           Gold  971  inactive  \n",
       "1         2023-07-13         Silver  356    Active  \n",
       "2         2023-08-18         Bronze    1    Active  \n",
       "3         2024-12-08           Gold    1    Active  \n",
       "4         2024-02-03           Gold    1    Active  \n",
       "5         2025-03-03         Bronze  212    Active  \n",
       "6         2024-09-30           Gold    1    Active  \n",
       "7         2023-10-06         Bronze  687    Active  \n",
       "8         2024-10-31         Silver    1    Active  \n",
       "9         2024-02-25         Bronze  972    Active  \n",
       "10        2025-01-25           Gold  971    Active  "
      ]
     },
     "execution_count": 15,
     "metadata": {},
     "output_type": "execute_result"
    }
   ],
   "source": [
    "df"
   ]
  },
  {
   "cell_type": "code",
   "execution_count": 16,
   "id": "fbf9d627",
   "metadata": {},
   "outputs": [
    {
     "data": {
      "text/plain": [
       "11"
      ]
     },
     "execution_count": 16,
     "metadata": {},
     "output_type": "execute_result"
    }
   ],
   "source": [
    "df.to_sql('customer_scd2.1',engine,if_exists='replace',index=False)"
   ]
  }
 ],
 "metadata": {
  "kernelspec": {
   "display_name": "Python 3",
   "language": "python",
   "name": "python3"
  },
  "language_info": {
   "codemirror_mode": {
    "name": "ipython",
    "version": 3
   },
   "file_extension": ".py",
   "mimetype": "text/x-python",
   "name": "python",
   "nbconvert_exporter": "python",
   "pygments_lexer": "ipython3",
   "version": "3.10.11"
  }
 },
 "nbformat": 4,
 "nbformat_minor": 5
}
